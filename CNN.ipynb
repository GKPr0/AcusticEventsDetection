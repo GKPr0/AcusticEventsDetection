{
 "cells": [
  {
   "cell_type": "code",
   "execution_count": 2,
   "metadata": {
    "collapsed": true,
    "pycharm": {
     "name": "#%%\n"
    }
   },
   "outputs": [],
   "source": [
    "import os\n",
    "import mutagen\n",
    "import mutagen.wave\n",
    "import numpy as np\n",
    "import pandas as pd\n",
    "import librosa.display"
   ]
  },
  {
   "cell_type": "code",
   "execution_count": 3,
   "outputs": [],
   "source": [
    "def create_dataset_df(csv_file):\n",
    "    dataset_df = pd.read_csv(csv_file)\n",
    "    filepaths = []\n",
    "    for i, row in dataset_df.iterrows():\n",
    "        filepaths.append(os.path.join('UrbanSound8K/audio', 'fold'+str(row['fold']), row['slice_file_name']))\n",
    "    dataset_df['filepath'] = filepaths\n",
    "    return dataset_df\n",
    "\n",
    "def compute_audio_statistics(dataset_df):\n",
    "    metadata_dict = {'length': [], 'bitrate': [], 'channels': [], 'sample_rate': [], 'bits_per_sample': []}\n",
    "    # Extract metadata\n",
    "    for filepath in dataset_df['filepath']:\n",
    "        metadata = get_audio_metadata_mutagen(filepath)\n",
    "        for key in metadata_dict.keys():\n",
    "            metadata_dict[key].append(metadata[key])\n",
    "    # Add new columns to dataframe\n",
    "    for key in metadata_dict.keys():\n",
    "        dataset_df[key] = metadata_dict[key]\n",
    "\n",
    "    return dataset_df\n",
    "\n",
    "def get_audio_metadata_mutagen(filepath):\n",
    "    metadata = {}\n",
    "    f = mutagen.wave.WAVE(filepath)\n",
    "    metadata['length'] = f.info.length\n",
    "    metadata['bitrate'] = f.info.bitrate\n",
    "    metadata['channels'] = f.info.channels\n",
    "    metadata['sample_rate'] = f.info.sample_rate\n",
    "    metadata['bits_per_sample'] = f.info.bits_per_sample\n",
    "    return metadata"
   ],
   "metadata": {
    "collapsed": false,
    "pycharm": {
     "name": "#%%\n"
    }
   }
  },
  {
   "cell_type": "code",
   "execution_count": 4,
   "outputs": [
    {
     "data": {
      "text/plain": "                fsID        start          end     salience         fold  \\\ncount    8732.000000  8732.000000  8732.000000  8732.000000  8732.000000   \nmean   116033.493816    38.645409    42.253312     1.347000     5.385937   \nstd     57991.017218    74.292126    74.369669     0.476043     2.846820   \nmin       344.000000     0.000000     0.105962     1.000000     1.000000   \n25%     69942.250000     3.000000     6.839398     1.000000     3.000000   \n50%    118279.000000    10.376492    14.000000     1.000000     5.000000   \n75%    166942.000000    35.131372    38.866979     2.000000     8.000000   \nmax    209992.000000   600.125356   604.125356     2.000000    10.000000   \n\n           classID       length       bitrate     channels    sample_rate  \\\ncount  8732.000000  8732.000000  8.732000e+03  8732.000000    8732.000000   \nmean      4.592877     3.603644  4.495311e+05     1.915369   48456.979272   \nstd       2.894544     0.980913  5.480813e+05     0.278348   15300.080707   \nmin       0.000000     0.000816  1.102500e+04     1.000000    8000.000000   \n25%       2.000000     4.000000  3.528000e+05     2.000000   44100.000000   \n50%       4.000000     4.000000  3.528000e+05     2.000000   44100.000000   \n75%       7.000000     4.000000  5.292000e+05     2.000000   48000.000000   \nmax       9.000000     4.000000  4.515840e+07     2.000000  192000.000000   \n\n       bits_per_sample  \ncount      8732.000000  \nmean         18.780119  \nstd           4.227168  \nmin           4.000000  \n25%          16.000000  \n50%          16.000000  \n75%          24.000000  \nmax          32.000000  ",
      "text/html": "<div>\n<style scoped>\n    .dataframe tbody tr th:only-of-type {\n        vertical-align: middle;\n    }\n\n    .dataframe tbody tr th {\n        vertical-align: top;\n    }\n\n    .dataframe thead th {\n        text-align: right;\n    }\n</style>\n<table border=\"1\" class=\"dataframe\">\n  <thead>\n    <tr style=\"text-align: right;\">\n      <th></th>\n      <th>fsID</th>\n      <th>start</th>\n      <th>end</th>\n      <th>salience</th>\n      <th>fold</th>\n      <th>classID</th>\n      <th>length</th>\n      <th>bitrate</th>\n      <th>channels</th>\n      <th>sample_rate</th>\n      <th>bits_per_sample</th>\n    </tr>\n  </thead>\n  <tbody>\n    <tr>\n      <th>count</th>\n      <td>8732.000000</td>\n      <td>8732.000000</td>\n      <td>8732.000000</td>\n      <td>8732.000000</td>\n      <td>8732.000000</td>\n      <td>8732.000000</td>\n      <td>8732.000000</td>\n      <td>8.732000e+03</td>\n      <td>8732.000000</td>\n      <td>8732.000000</td>\n      <td>8732.000000</td>\n    </tr>\n    <tr>\n      <th>mean</th>\n      <td>116033.493816</td>\n      <td>38.645409</td>\n      <td>42.253312</td>\n      <td>1.347000</td>\n      <td>5.385937</td>\n      <td>4.592877</td>\n      <td>3.603644</td>\n      <td>4.495311e+05</td>\n      <td>1.915369</td>\n      <td>48456.979272</td>\n      <td>18.780119</td>\n    </tr>\n    <tr>\n      <th>std</th>\n      <td>57991.017218</td>\n      <td>74.292126</td>\n      <td>74.369669</td>\n      <td>0.476043</td>\n      <td>2.846820</td>\n      <td>2.894544</td>\n      <td>0.980913</td>\n      <td>5.480813e+05</td>\n      <td>0.278348</td>\n      <td>15300.080707</td>\n      <td>4.227168</td>\n    </tr>\n    <tr>\n      <th>min</th>\n      <td>344.000000</td>\n      <td>0.000000</td>\n      <td>0.105962</td>\n      <td>1.000000</td>\n      <td>1.000000</td>\n      <td>0.000000</td>\n      <td>0.000816</td>\n      <td>1.102500e+04</td>\n      <td>1.000000</td>\n      <td>8000.000000</td>\n      <td>4.000000</td>\n    </tr>\n    <tr>\n      <th>25%</th>\n      <td>69942.250000</td>\n      <td>3.000000</td>\n      <td>6.839398</td>\n      <td>1.000000</td>\n      <td>3.000000</td>\n      <td>2.000000</td>\n      <td>4.000000</td>\n      <td>3.528000e+05</td>\n      <td>2.000000</td>\n      <td>44100.000000</td>\n      <td>16.000000</td>\n    </tr>\n    <tr>\n      <th>50%</th>\n      <td>118279.000000</td>\n      <td>10.376492</td>\n      <td>14.000000</td>\n      <td>1.000000</td>\n      <td>5.000000</td>\n      <td>4.000000</td>\n      <td>4.000000</td>\n      <td>3.528000e+05</td>\n      <td>2.000000</td>\n      <td>44100.000000</td>\n      <td>16.000000</td>\n    </tr>\n    <tr>\n      <th>75%</th>\n      <td>166942.000000</td>\n      <td>35.131372</td>\n      <td>38.866979</td>\n      <td>2.000000</td>\n      <td>8.000000</td>\n      <td>7.000000</td>\n      <td>4.000000</td>\n      <td>5.292000e+05</td>\n      <td>2.000000</td>\n      <td>48000.000000</td>\n      <td>24.000000</td>\n    </tr>\n    <tr>\n      <th>max</th>\n      <td>209992.000000</td>\n      <td>600.125356</td>\n      <td>604.125356</td>\n      <td>2.000000</td>\n      <td>10.000000</td>\n      <td>9.000000</td>\n      <td>4.000000</td>\n      <td>4.515840e+07</td>\n      <td>2.000000</td>\n      <td>192000.000000</td>\n      <td>32.000000</td>\n    </tr>\n  </tbody>\n</table>\n</div>"
     },
     "execution_count": 4,
     "metadata": {},
     "output_type": "execute_result"
    }
   ],
   "source": [
    "dataset_df = create_dataset_df('UrbanSound8K/metadata/UrbanSound8K.csv')\n",
    "dataset_df = compute_audio_statistics(dataset_df)\n",
    "dataset_df.describe()"
   ],
   "metadata": {
    "collapsed": false,
    "pycharm": {
     "name": "#%%\n"
    }
   }
  },
  {
   "cell_type": "code",
   "execution_count": 5,
   "outputs": [
    {
     "data": {
      "text/plain": "(44100     5370\n 48000     2502\n 96000      610\n 24000       82\n 16000       45\n 22050       44\n 11025       39\n 192000      17\n 8000        12\n 11024        7\n 32000        4\n Name: sample_rate, dtype: int64,\n 4.000000    7325\n 1.440000      10\n 1.330000      10\n 1.090000       9\n 1.020000       7\n             ... \n 1.085397       1\n 1.039546       1\n 2.088503       1\n 3.220000       1\n 3.505986       1\n Name: length, Length: 973, dtype: int64)"
     },
     "execution_count": 5,
     "metadata": {},
     "output_type": "execute_result"
    }
   ],
   "source": [
    "dataset_df['sample_rate'].value_counts(),\\\n",
    "dataset_df['length'].value_counts(),"
   ],
   "metadata": {
    "collapsed": false,
    "pycharm": {
     "name": "#%%\n"
    }
   }
  },
  {
   "cell_type": "markdown",
   "source": [
    "As we can see, most recordings are 4 seconds long and were recorded at a frequency of 44,1 kHz.\n",
    "So to make working with data easier, we will only use this data"
   ],
   "metadata": {
    "collapsed": false,
    "pycharm": {
     "name": "#%% md\n"
    }
   }
  },
  {
   "cell_type": "markdown",
   "source": [
    "## Data simplification\n",
    "Reduce dataset to speed up and simplify process"
   ],
   "metadata": {
    "collapsed": false,
    "pycharm": {
     "name": "#%% md\n"
    }
   }
  },
  {
   "cell_type": "code",
   "execution_count": 6,
   "outputs": [
    {
     "data": {
      "text/plain": "                fsID        start          end     salience         fold  \\\ncount    3079.000000  3079.000000  3079.000000  3079.000000  3079.000000   \nmean   107075.758363    41.469669    45.469669     1.314063     5.623904   \nstd     54543.168993    77.985483    77.985483     0.464217     2.791456   \nmin       518.000000     0.000000     4.000000     1.000000     1.000000   \n25%     62837.000000     3.134062     7.134062     1.000000     3.000000   \n50%    102871.000000    10.500000    14.500000     1.000000     6.000000   \n75%    156869.000000    39.878609    43.878609     2.000000     8.000000   \nmax    209864.000000   534.628805   538.628805     2.000000    10.000000   \n\n           classID  length        bitrate     channels  sample_rate  \\\ncount  3079.000000  3079.0    3079.000000  3079.000000       3079.0   \nmean      4.238389     4.0  363613.738227     1.916856      44100.0   \nstd       2.769169     0.0  115129.056055     0.276144          0.0   \nmin       0.000000     4.0   88200.000000     1.000000      44100.0   \n25%       3.000000     4.0  352800.000000     2.000000      44100.0   \n50%       4.000000     4.0  352800.000000     2.000000      44100.0   \n75%       7.000000     4.0  352800.000000     2.000000      44100.0   \nmax       8.000000     4.0  705600.000000     2.000000      44100.0   \n\n       bits_per_sample  \ncount      3079.000000  \nmean         17.564144  \nstd           3.821347  \nmin          16.000000  \n25%          16.000000  \n50%          16.000000  \n75%          16.000000  \nmax          32.000000  ",
      "text/html": "<div>\n<style scoped>\n    .dataframe tbody tr th:only-of-type {\n        vertical-align: middle;\n    }\n\n    .dataframe tbody tr th {\n        vertical-align: top;\n    }\n\n    .dataframe thead th {\n        text-align: right;\n    }\n</style>\n<table border=\"1\" class=\"dataframe\">\n  <thead>\n    <tr style=\"text-align: right;\">\n      <th></th>\n      <th>fsID</th>\n      <th>start</th>\n      <th>end</th>\n      <th>salience</th>\n      <th>fold</th>\n      <th>classID</th>\n      <th>length</th>\n      <th>bitrate</th>\n      <th>channels</th>\n      <th>sample_rate</th>\n      <th>bits_per_sample</th>\n    </tr>\n  </thead>\n  <tbody>\n    <tr>\n      <th>count</th>\n      <td>3079.000000</td>\n      <td>3079.000000</td>\n      <td>3079.000000</td>\n      <td>3079.000000</td>\n      <td>3079.000000</td>\n      <td>3079.000000</td>\n      <td>3079.0</td>\n      <td>3079.000000</td>\n      <td>3079.000000</td>\n      <td>3079.0</td>\n      <td>3079.000000</td>\n    </tr>\n    <tr>\n      <th>mean</th>\n      <td>107075.758363</td>\n      <td>41.469669</td>\n      <td>45.469669</td>\n      <td>1.314063</td>\n      <td>5.623904</td>\n      <td>4.238389</td>\n      <td>4.0</td>\n      <td>363613.738227</td>\n      <td>1.916856</td>\n      <td>44100.0</td>\n      <td>17.564144</td>\n    </tr>\n    <tr>\n      <th>std</th>\n      <td>54543.168993</td>\n      <td>77.985483</td>\n      <td>77.985483</td>\n      <td>0.464217</td>\n      <td>2.791456</td>\n      <td>2.769169</td>\n      <td>0.0</td>\n      <td>115129.056055</td>\n      <td>0.276144</td>\n      <td>0.0</td>\n      <td>3.821347</td>\n    </tr>\n    <tr>\n      <th>min</th>\n      <td>518.000000</td>\n      <td>0.000000</td>\n      <td>4.000000</td>\n      <td>1.000000</td>\n      <td>1.000000</td>\n      <td>0.000000</td>\n      <td>4.0</td>\n      <td>88200.000000</td>\n      <td>1.000000</td>\n      <td>44100.0</td>\n      <td>16.000000</td>\n    </tr>\n    <tr>\n      <th>25%</th>\n      <td>62837.000000</td>\n      <td>3.134062</td>\n      <td>7.134062</td>\n      <td>1.000000</td>\n      <td>3.000000</td>\n      <td>3.000000</td>\n      <td>4.0</td>\n      <td>352800.000000</td>\n      <td>2.000000</td>\n      <td>44100.0</td>\n      <td>16.000000</td>\n    </tr>\n    <tr>\n      <th>50%</th>\n      <td>102871.000000</td>\n      <td>10.500000</td>\n      <td>14.500000</td>\n      <td>1.000000</td>\n      <td>6.000000</td>\n      <td>4.000000</td>\n      <td>4.0</td>\n      <td>352800.000000</td>\n      <td>2.000000</td>\n      <td>44100.0</td>\n      <td>16.000000</td>\n    </tr>\n    <tr>\n      <th>75%</th>\n      <td>156869.000000</td>\n      <td>39.878609</td>\n      <td>43.878609</td>\n      <td>2.000000</td>\n      <td>8.000000</td>\n      <td>7.000000</td>\n      <td>4.0</td>\n      <td>352800.000000</td>\n      <td>2.000000</td>\n      <td>44100.0</td>\n      <td>16.000000</td>\n    </tr>\n    <tr>\n      <th>max</th>\n      <td>209864.000000</td>\n      <td>534.628805</td>\n      <td>538.628805</td>\n      <td>2.000000</td>\n      <td>10.000000</td>\n      <td>8.000000</td>\n      <td>4.0</td>\n      <td>705600.000000</td>\n      <td>2.000000</td>\n      <td>44100.0</td>\n      <td>32.000000</td>\n    </tr>\n  </tbody>\n</table>\n</div>"
     },
     "execution_count": 6,
     "metadata": {},
     "output_type": "execute_result"
    }
   ],
   "source": [
    "reduced_dataset_df = dataset_df.loc[(dataset_df[\"sample_rate\"] == 44100) &\n",
    "                                (dataset_df[\"length\"] == 4.0) &\n",
    "                                (~dataset_df[\"class\"].isin([\"gun_shot\", \"car_horn\", \"children_playing\", \"street_music\"]))]\n",
    "reduced_dataset_df.describe()"
   ],
   "metadata": {
    "collapsed": false,
    "pycharm": {
     "name": "#%%\n"
    }
   }
  },
  {
   "cell_type": "code",
   "execution_count": 7,
   "outputs": [
    {
     "data": {
      "text/plain": "                  fsID                                                  \\\n                 count           mean           std      min       25%   \nclass                                                                    \nair_conditioner  674.0  118710.246291  54970.593077  13230.0  74507.00   \ndog_bark         435.0   83270.374713  49666.573850   7383.0  50223.00   \ndrilling         515.0  106917.248544  55564.143122    518.0  58937.00   \nengine_idling    494.0   97593.639676  59899.387258   6988.0  39856.25   \njackhammer       473.0  115350.369979  54206.656511  24728.0  62837.00   \nsiren            488.0  113972.489754  42321.007181  30823.0  74726.00   \n\n                                               start              ...  \\\n                      50%       75%       max  count        mean  ...   \nclass                                                             ...   \nair_conditioner  134717.0  162103.0  204240.0  674.0   15.247326  ...   \ndog_bark          72221.0  116483.0  207124.0  435.0   24.383341  ...   \ndrilling          99192.0  166931.0  205610.0  515.0   38.262867  ...   \nengine_idling     94632.0  152908.0  209864.0  494.0   17.967637  ...   \njackhammer       105029.0  165039.0  203929.0  473.0  124.597281  ...   \nsiren            107357.0  157866.0  208652.0  488.0   39.519991  ...   \n\n                sample_rate          bits_per_sample                       \\\n                        75%      max           count       mean       std   \nclass                                                                       \nair_conditioner     44100.0  44100.0           674.0  18.872404  4.459330   \ndog_bark            44100.0  44100.0           435.0  17.195402  3.242286   \ndrilling            44100.0  44100.0           515.0  16.885437  2.512320   \nengine_idling       44100.0  44100.0           494.0  16.842105  2.457626   \njackhammer          44100.0  44100.0           473.0  18.875264  5.855904   \nsiren               44100.0  44100.0           488.0  16.262295  1.599811   \n\n                                               \n                  min   25%   50%   75%   max  \nclass                                          \nair_conditioner  16.0  16.0  16.0  24.0  32.0  \ndog_bark         16.0  16.0  16.0  16.0  32.0  \ndrilling         16.0  16.0  16.0  16.0  24.0  \nengine_idling    16.0  16.0  16.0  16.0  24.0  \njackhammer       16.0  16.0  16.0  16.0  32.0  \nsiren            16.0  16.0  16.0  16.0  32.0  \n\n[6 rows x 88 columns]",
      "text/html": "<div>\n<style scoped>\n    .dataframe tbody tr th:only-of-type {\n        vertical-align: middle;\n    }\n\n    .dataframe tbody tr th {\n        vertical-align: top;\n    }\n\n    .dataframe thead tr th {\n        text-align: left;\n    }\n\n    .dataframe thead tr:last-of-type th {\n        text-align: right;\n    }\n</style>\n<table border=\"1\" class=\"dataframe\">\n  <thead>\n    <tr>\n      <th></th>\n      <th colspan=\"8\" halign=\"left\">fsID</th>\n      <th colspan=\"2\" halign=\"left\">start</th>\n      <th>...</th>\n      <th colspan=\"2\" halign=\"left\">sample_rate</th>\n      <th colspan=\"8\" halign=\"left\">bits_per_sample</th>\n    </tr>\n    <tr>\n      <th></th>\n      <th>count</th>\n      <th>mean</th>\n      <th>std</th>\n      <th>min</th>\n      <th>25%</th>\n      <th>50%</th>\n      <th>75%</th>\n      <th>max</th>\n      <th>count</th>\n      <th>mean</th>\n      <th>...</th>\n      <th>75%</th>\n      <th>max</th>\n      <th>count</th>\n      <th>mean</th>\n      <th>std</th>\n      <th>min</th>\n      <th>25%</th>\n      <th>50%</th>\n      <th>75%</th>\n      <th>max</th>\n    </tr>\n    <tr>\n      <th>class</th>\n      <th></th>\n      <th></th>\n      <th></th>\n      <th></th>\n      <th></th>\n      <th></th>\n      <th></th>\n      <th></th>\n      <th></th>\n      <th></th>\n      <th></th>\n      <th></th>\n      <th></th>\n      <th></th>\n      <th></th>\n      <th></th>\n      <th></th>\n      <th></th>\n      <th></th>\n      <th></th>\n      <th></th>\n    </tr>\n  </thead>\n  <tbody>\n    <tr>\n      <th>air_conditioner</th>\n      <td>674.0</td>\n      <td>118710.246291</td>\n      <td>54970.593077</td>\n      <td>13230.0</td>\n      <td>74507.00</td>\n      <td>134717.0</td>\n      <td>162103.0</td>\n      <td>204240.0</td>\n      <td>674.0</td>\n      <td>15.247326</td>\n      <td>...</td>\n      <td>44100.0</td>\n      <td>44100.0</td>\n      <td>674.0</td>\n      <td>18.872404</td>\n      <td>4.459330</td>\n      <td>16.0</td>\n      <td>16.0</td>\n      <td>16.0</td>\n      <td>24.0</td>\n      <td>32.0</td>\n    </tr>\n    <tr>\n      <th>dog_bark</th>\n      <td>435.0</td>\n      <td>83270.374713</td>\n      <td>49666.573850</td>\n      <td>7383.0</td>\n      <td>50223.00</td>\n      <td>72221.0</td>\n      <td>116483.0</td>\n      <td>207124.0</td>\n      <td>435.0</td>\n      <td>24.383341</td>\n      <td>...</td>\n      <td>44100.0</td>\n      <td>44100.0</td>\n      <td>435.0</td>\n      <td>17.195402</td>\n      <td>3.242286</td>\n      <td>16.0</td>\n      <td>16.0</td>\n      <td>16.0</td>\n      <td>16.0</td>\n      <td>32.0</td>\n    </tr>\n    <tr>\n      <th>drilling</th>\n      <td>515.0</td>\n      <td>106917.248544</td>\n      <td>55564.143122</td>\n      <td>518.0</td>\n      <td>58937.00</td>\n      <td>99192.0</td>\n      <td>166931.0</td>\n      <td>205610.0</td>\n      <td>515.0</td>\n      <td>38.262867</td>\n      <td>...</td>\n      <td>44100.0</td>\n      <td>44100.0</td>\n      <td>515.0</td>\n      <td>16.885437</td>\n      <td>2.512320</td>\n      <td>16.0</td>\n      <td>16.0</td>\n      <td>16.0</td>\n      <td>16.0</td>\n      <td>24.0</td>\n    </tr>\n    <tr>\n      <th>engine_idling</th>\n      <td>494.0</td>\n      <td>97593.639676</td>\n      <td>59899.387258</td>\n      <td>6988.0</td>\n      <td>39856.25</td>\n      <td>94632.0</td>\n      <td>152908.0</td>\n      <td>209864.0</td>\n      <td>494.0</td>\n      <td>17.967637</td>\n      <td>...</td>\n      <td>44100.0</td>\n      <td>44100.0</td>\n      <td>494.0</td>\n      <td>16.842105</td>\n      <td>2.457626</td>\n      <td>16.0</td>\n      <td>16.0</td>\n      <td>16.0</td>\n      <td>16.0</td>\n      <td>24.0</td>\n    </tr>\n    <tr>\n      <th>jackhammer</th>\n      <td>473.0</td>\n      <td>115350.369979</td>\n      <td>54206.656511</td>\n      <td>24728.0</td>\n      <td>62837.00</td>\n      <td>105029.0</td>\n      <td>165039.0</td>\n      <td>203929.0</td>\n      <td>473.0</td>\n      <td>124.597281</td>\n      <td>...</td>\n      <td>44100.0</td>\n      <td>44100.0</td>\n      <td>473.0</td>\n      <td>18.875264</td>\n      <td>5.855904</td>\n      <td>16.0</td>\n      <td>16.0</td>\n      <td>16.0</td>\n      <td>16.0</td>\n      <td>32.0</td>\n    </tr>\n    <tr>\n      <th>siren</th>\n      <td>488.0</td>\n      <td>113972.489754</td>\n      <td>42321.007181</td>\n      <td>30823.0</td>\n      <td>74726.00</td>\n      <td>107357.0</td>\n      <td>157866.0</td>\n      <td>208652.0</td>\n      <td>488.0</td>\n      <td>39.519991</td>\n      <td>...</td>\n      <td>44100.0</td>\n      <td>44100.0</td>\n      <td>488.0</td>\n      <td>16.262295</td>\n      <td>1.599811</td>\n      <td>16.0</td>\n      <td>16.0</td>\n      <td>16.0</td>\n      <td>16.0</td>\n      <td>32.0</td>\n    </tr>\n  </tbody>\n</table>\n<p>6 rows × 88 columns</p>\n</div>"
     },
     "execution_count": 7,
     "metadata": {},
     "output_type": "execute_result"
    }
   ],
   "source": [
    "reduced_dataset_df.groupby('class').describe()"
   ],
   "metadata": {
    "collapsed": false,
    "pycharm": {
     "name": "#%%\n"
    }
   }
  },
  {
   "cell_type": "markdown",
   "source": [
    "## Feature Extraction\n",
    "We will be using Mel spektrum for audio classification.\n",
    "Created spectrum is already one-sided, so it does not contains duplicate informations"
   ],
   "metadata": {
    "collapsed": false,
    "pycharm": {
     "name": "#%% md\n"
    }
   }
  },
  {
   "cell_type": "code",
   "execution_count": 19,
   "outputs": [],
   "source": [
    "from tensorflow.keras.utils import Sequence\n",
    "\n",
    "class MelDataGenerator(Sequence):\n",
    "\n",
    "    N_FFT = 2048\n",
    "    HOP_LENGTH = 512\n",
    "\n",
    "    def __init__(self, dataframe, output_size, n_mels=128, shuffle=False, batch_size=10):\n",
    "        \"\"\"\n",
    "        Initializes a data generator object\n",
    "            :param dataframe: dataframe containing data such as class and file path\n",
    "            :param output_size: output size after preprocessing\n",
    "            :param n_mel: number of mel banks\n",
    "            :param shuffle: shuffle the data after each epoch\n",
    "            :param batch_size: The size of each batch returned by __getitem__\n",
    "        \"\"\"\n",
    "        self.df = dataframe\n",
    "        self.output_size = output_size\n",
    "        self.n_mels = n_mels\n",
    "        self.shuffle = shuffle\n",
    "        self.batch_size = batch_size\n",
    "        self.on_epoch_end()\n",
    "\n",
    "    def on_epoch_end(self):\n",
    "        self.indices = np.arange(len(self.df))\n",
    "        if self.shuffle:\n",
    "            np.random.shuffle(self.indices)\n",
    "\n",
    "    def __len__(self):\n",
    "        return int(len(self.df) / self.batch_size)\n",
    "\n",
    "    def __getitem__(self, idx):\n",
    "        ## Initializing Batch\n",
    "        X = np.empty((self.batch_size, *self.output_size))\n",
    "        y = np.empty((self.batch_size, 1))\n",
    "\n",
    "        # get the indices of the requested batch\n",
    "        indices = self.indices[idx * self.batch_size:(idx+1)*self.batch_size]\n",
    "\n",
    "        for i, data_index in enumerate(indices):\n",
    "            selected_df = self.df.iloc[data_index]\n",
    "\n",
    "            features = self.extract_features(selected_df[\"filepath\"])\n",
    "\n",
    "            X[i,] = np.reshape(features, self.output_size)\n",
    "            y[i] = selected_df[\"classID\"]\n",
    "\n",
    "        return X, y\n",
    "\n",
    "    def extract_features(self, file_path):\n",
    "        audio, sample_rate = librosa.load(file_path)\n",
    "        mel = librosa.feature.melspectrogram(y=audio,\n",
    "                                             sr=sample_rate,\n",
    "                                             n_fft=self.N_FFT,\n",
    "                                             hop_length=self.HOP_LENGTH,\n",
    "                                             n_mels=self.n_mels)\n",
    "\n",
    "        mag_db_mel = librosa.amplitude_to_db(np.abs(mel))\n",
    "        angle_mel =  np.angle(mel)\n",
    "\n",
    "        result_features = np.stack((mag_db_mel, angle_mel))\n",
    "\n",
    "        return result_features\n"
   ],
   "metadata": {
    "collapsed": false,
    "pycharm": {
     "name": "#%%\n"
    }
   }
  },
  {
   "cell_type": "markdown",
   "source": [],
   "metadata": {
    "collapsed": false,
    "pycharm": {
     "name": "#%% md\n"
    }
   }
  },
  {
   "cell_type": "code",
   "execution_count": 24,
   "outputs": [
    {
     "name": "stdout",
     "output_type": "stream",
     "text": [
      "Model: \"sequential_5\"\n",
      "_________________________________________________________________\n",
      "Layer (type)                 Output Shape              Param #   \n",
      "=================================================================\n",
      "conv2d_17 (Conv2D)           (None, 124, 169, 32)      1632      \n",
      "_________________________________________________________________\n",
      "conv2d_18 (Conv2D)           (None, 120, 165, 32)      25632     \n",
      "_________________________________________________________________\n",
      "max_pooling2d_8 (MaxPooling2 (None, 60, 82, 32)        0         \n",
      "_________________________________________________________________\n",
      "conv2d_19 (Conv2D)           (None, 58, 80, 16)        4624      \n",
      "_________________________________________________________________\n",
      "conv2d_20 (Conv2D)           (None, 56, 78, 16)        2320      \n",
      "_________________________________________________________________\n",
      "max_pooling2d_9 (MaxPooling2 (None, 28, 39, 16)        0         \n",
      "_________________________________________________________________\n",
      "flatten_4 (Flatten)          (None, 17472)             0         \n",
      "_________________________________________________________________\n",
      "dense_8 (Dense)              (None, 128)               2236544   \n",
      "_________________________________________________________________\n",
      "dropout_4 (Dropout)          (None, 128)               0         \n",
      "_________________________________________________________________\n",
      "dense_9 (Dense)              (None, 6)                 774       \n",
      "=================================================================\n",
      "Total params: 2,271,526\n",
      "Trainable params: 2,271,526\n",
      "Non-trainable params: 0\n",
      "_________________________________________________________________\n",
      "None\n"
     ]
    }
   ],
   "source": [
    "from tensorflow.python.keras.optimizer_v2.adam import Adam\n",
    "from tensorflow.python.keras.layers import Conv2D, MaxPooling2D, Flatten, Dense, Dropout\n",
    "from tensorflow.python.keras import Sequential\n",
    "\n",
    "n_mels = 128\n",
    "features_size = (n_mels, 173, 2)\n",
    "batch_size = 16\n",
    "num_of_classes = 6\n",
    "\n",
    "# Creating CNN leNet based model\n",
    "model = Sequential()\n",
    "\n",
    "model.add(Conv2D(32, (5, 5), input_shape=features_size, activation='relu'))\n",
    "model.add(Conv2D(32, (5, 5), activation='relu'))\n",
    "model.add(MaxPooling2D(pool_size=(2, 2)))\n",
    "\n",
    "model.add(Conv2D(16, (3, 3), activation='relu'))\n",
    "model.add(Conv2D(16, (3, 3), activation='relu'))\n",
    "model.add(MaxPooling2D(pool_size=(2, 2)))\n",
    "\n",
    "model.add(Flatten())\n",
    "model.add(Dense(128, activation='relu'))\n",
    "model.add(Dropout(0.5))\n",
    "model.add(Dense(num_of_classes, activation='softmax'))\n",
    "\n",
    "optimizer = Adam(learning_rate= 0.001)\n",
    "\n",
    "model.compile(optimizer, loss='categorical_crossentropy', metrics=[\"accuracy\"])\n",
    "print(model.summary())"
   ],
   "metadata": {
    "collapsed": false,
    "pycharm": {
     "name": "#%%\n"
    }
   }
  },
  {
   "cell_type": "code",
   "execution_count": 27,
   "outputs": [],
   "source": [
    "train_df = reduced_dataset_df.loc[reduced_dataset_df[\"fold\"] < 9]\n",
    "valid_df = reduced_dataset_df.loc[reduced_dataset_df[\"fold\"] == 9]\n",
    "test_df =  reduced_dataset_df.loc[reduced_dataset_df[\"fold\"] == 10]\n",
    "\n",
    "train_gen = MelDataGenerator(dataframe=train_df,\n",
    "                             output_size=features_size,\n",
    "                             n_mels=n_mels,\n",
    "                             shuffle=True,\n",
    "                             batch_size=batch_size)\n",
    "\n",
    "valid_gen = MelDataGenerator(dataframe=valid_df,\n",
    "                             output_size=features_size,\n",
    "                             n_mels=n_mels,\n",
    "                             shuffle=True,\n",
    "                             batch_size=batch_size)\n"
   ],
   "metadata": {
    "collapsed": false,
    "pycharm": {
     "name": "#%%\n"
    }
   }
  },
  {
   "cell_type": "code",
   "execution_count": 29,
   "outputs": [
    {
     "name": "stdout",
     "output_type": "stream",
     "text": [
      "Epoch 1/5\n",
      " 40/153 [======>.......................] - ETA: 4:44 - loss: 347051196416.0000 - accuracy: 0.1078"
     ]
    },
    {
     "ename": "KeyboardInterrupt",
     "evalue": "",
     "output_type": "error",
     "traceback": [
      "\u001B[1;31m---------------------------------------------------------------------------\u001B[0m",
      "\u001B[1;31mKeyboardInterrupt\u001B[0m                         Traceback (most recent call last)",
      "Input \u001B[1;32mIn [29]\u001B[0m, in \u001B[0;36m<cell line: 1>\u001B[1;34m()\u001B[0m\n\u001B[1;32m----> 1\u001B[0m history \u001B[38;5;241m=\u001B[39m \u001B[43mmodel\u001B[49m\u001B[38;5;241;43m.\u001B[39;49m\u001B[43mfit\u001B[49m\u001B[43m(\u001B[49m\u001B[43mtrain_gen\u001B[49m\u001B[43m,\u001B[49m\u001B[43m \u001B[49m\u001B[43mvalidation_data\u001B[49m\u001B[38;5;241;43m=\u001B[39;49m\u001B[43mvalid_gen\u001B[49m\u001B[43m,\u001B[49m\u001B[43m \u001B[49m\u001B[43mepochs\u001B[49m\u001B[38;5;241;43m=\u001B[39;49m\u001B[38;5;241;43m5\u001B[39;49m\u001B[43m)\u001B[49m\n",
      "File \u001B[1;32m~\\.conda\\envs\\AcusticEventsDetection\\lib\\site-packages\\tensorflow\\python\\keras\\engine\\training.py:1193\u001B[0m, in \u001B[0;36mModel.fit\u001B[1;34m(self, x, y, batch_size, epochs, verbose, callbacks, validation_split, validation_data, shuffle, class_weight, sample_weight, initial_epoch, steps_per_epoch, validation_steps, validation_batch_size, validation_freq, max_queue_size, workers, use_multiprocessing)\u001B[0m\n\u001B[0;32m   1186\u001B[0m \u001B[38;5;28;01mwith\u001B[39;00m trace\u001B[38;5;241m.\u001B[39mTrace(\n\u001B[0;32m   1187\u001B[0m     \u001B[38;5;124m'\u001B[39m\u001B[38;5;124mtrain\u001B[39m\u001B[38;5;124m'\u001B[39m,\n\u001B[0;32m   1188\u001B[0m     epoch_num\u001B[38;5;241m=\u001B[39mepoch,\n\u001B[0;32m   1189\u001B[0m     step_num\u001B[38;5;241m=\u001B[39mstep,\n\u001B[0;32m   1190\u001B[0m     batch_size\u001B[38;5;241m=\u001B[39mbatch_size,\n\u001B[0;32m   1191\u001B[0m     _r\u001B[38;5;241m=\u001B[39m\u001B[38;5;241m1\u001B[39m):\n\u001B[0;32m   1192\u001B[0m   callbacks\u001B[38;5;241m.\u001B[39mon_train_batch_begin(step)\n\u001B[1;32m-> 1193\u001B[0m   tmp_logs \u001B[38;5;241m=\u001B[39m \u001B[38;5;28;43mself\u001B[39;49m\u001B[38;5;241;43m.\u001B[39;49m\u001B[43mtrain_function\u001B[49m\u001B[43m(\u001B[49m\u001B[43miterator\u001B[49m\u001B[43m)\u001B[49m\n\u001B[0;32m   1194\u001B[0m   \u001B[38;5;28;01mif\u001B[39;00m data_handler\u001B[38;5;241m.\u001B[39mshould_sync:\n\u001B[0;32m   1195\u001B[0m     context\u001B[38;5;241m.\u001B[39masync_wait()\n",
      "File \u001B[1;32m~\\.conda\\envs\\AcusticEventsDetection\\lib\\site-packages\\tensorflow\\python\\eager\\def_function.py:885\u001B[0m, in \u001B[0;36mFunction.__call__\u001B[1;34m(self, *args, **kwds)\u001B[0m\n\u001B[0;32m    882\u001B[0m compiler \u001B[38;5;241m=\u001B[39m \u001B[38;5;124m\"\u001B[39m\u001B[38;5;124mxla\u001B[39m\u001B[38;5;124m\"\u001B[39m \u001B[38;5;28;01mif\u001B[39;00m \u001B[38;5;28mself\u001B[39m\u001B[38;5;241m.\u001B[39m_jit_compile \u001B[38;5;28;01melse\u001B[39;00m \u001B[38;5;124m\"\u001B[39m\u001B[38;5;124mnonXla\u001B[39m\u001B[38;5;124m\"\u001B[39m\n\u001B[0;32m    884\u001B[0m \u001B[38;5;28;01mwith\u001B[39;00m OptionalXlaContext(\u001B[38;5;28mself\u001B[39m\u001B[38;5;241m.\u001B[39m_jit_compile):\n\u001B[1;32m--> 885\u001B[0m   result \u001B[38;5;241m=\u001B[39m \u001B[38;5;28mself\u001B[39m\u001B[38;5;241m.\u001B[39m_call(\u001B[38;5;241m*\u001B[39margs, \u001B[38;5;241m*\u001B[39m\u001B[38;5;241m*\u001B[39mkwds)\n\u001B[0;32m    887\u001B[0m new_tracing_count \u001B[38;5;241m=\u001B[39m \u001B[38;5;28mself\u001B[39m\u001B[38;5;241m.\u001B[39mexperimental_get_tracing_count()\n\u001B[0;32m    888\u001B[0m without_tracing \u001B[38;5;241m=\u001B[39m (tracing_count \u001B[38;5;241m==\u001B[39m new_tracing_count)\n",
      "File \u001B[1;32m~\\.conda\\envs\\AcusticEventsDetection\\lib\\site-packages\\tensorflow\\python\\eager\\def_function.py:917\u001B[0m, in \u001B[0;36mFunction._call\u001B[1;34m(self, *args, **kwds)\u001B[0m\n\u001B[0;32m    914\u001B[0m   \u001B[38;5;28mself\u001B[39m\u001B[38;5;241m.\u001B[39m_lock\u001B[38;5;241m.\u001B[39mrelease()\n\u001B[0;32m    915\u001B[0m   \u001B[38;5;66;03m# In this case we have created variables on the first call, so we run the\u001B[39;00m\n\u001B[0;32m    916\u001B[0m   \u001B[38;5;66;03m# defunned version which is guaranteed to never create variables.\u001B[39;00m\n\u001B[1;32m--> 917\u001B[0m   \u001B[38;5;28;01mreturn\u001B[39;00m \u001B[38;5;28mself\u001B[39m\u001B[38;5;241m.\u001B[39m_stateless_fn(\u001B[38;5;241m*\u001B[39margs, \u001B[38;5;241m*\u001B[39m\u001B[38;5;241m*\u001B[39mkwds)  \u001B[38;5;66;03m# pylint: disable=not-callable\u001B[39;00m\n\u001B[0;32m    918\u001B[0m \u001B[38;5;28;01melif\u001B[39;00m \u001B[38;5;28mself\u001B[39m\u001B[38;5;241m.\u001B[39m_stateful_fn \u001B[38;5;129;01mis\u001B[39;00m \u001B[38;5;129;01mnot\u001B[39;00m \u001B[38;5;28;01mNone\u001B[39;00m:\n\u001B[0;32m    919\u001B[0m   \u001B[38;5;66;03m# Release the lock early so that multiple threads can perform the call\u001B[39;00m\n\u001B[0;32m    920\u001B[0m   \u001B[38;5;66;03m# in parallel.\u001B[39;00m\n\u001B[0;32m    921\u001B[0m   \u001B[38;5;28mself\u001B[39m\u001B[38;5;241m.\u001B[39m_lock\u001B[38;5;241m.\u001B[39mrelease()\n",
      "File \u001B[1;32m~\\.conda\\envs\\AcusticEventsDetection\\lib\\site-packages\\tensorflow\\python\\eager\\function.py:3039\u001B[0m, in \u001B[0;36mFunction.__call__\u001B[1;34m(self, *args, **kwargs)\u001B[0m\n\u001B[0;32m   3036\u001B[0m \u001B[38;5;28;01mwith\u001B[39;00m \u001B[38;5;28mself\u001B[39m\u001B[38;5;241m.\u001B[39m_lock:\n\u001B[0;32m   3037\u001B[0m   (graph_function,\n\u001B[0;32m   3038\u001B[0m    filtered_flat_args) \u001B[38;5;241m=\u001B[39m \u001B[38;5;28mself\u001B[39m\u001B[38;5;241m.\u001B[39m_maybe_define_function(args, kwargs)\n\u001B[1;32m-> 3039\u001B[0m \u001B[38;5;28;01mreturn\u001B[39;00m \u001B[43mgraph_function\u001B[49m\u001B[38;5;241;43m.\u001B[39;49m\u001B[43m_call_flat\u001B[49m\u001B[43m(\u001B[49m\n\u001B[0;32m   3040\u001B[0m \u001B[43m    \u001B[49m\u001B[43mfiltered_flat_args\u001B[49m\u001B[43m,\u001B[49m\u001B[43m \u001B[49m\u001B[43mcaptured_inputs\u001B[49m\u001B[38;5;241;43m=\u001B[39;49m\u001B[43mgraph_function\u001B[49m\u001B[38;5;241;43m.\u001B[39;49m\u001B[43mcaptured_inputs\u001B[49m\u001B[43m)\u001B[49m\n",
      "File \u001B[1;32m~\\.conda\\envs\\AcusticEventsDetection\\lib\\site-packages\\tensorflow\\python\\eager\\function.py:1963\u001B[0m, in \u001B[0;36mConcreteFunction._call_flat\u001B[1;34m(self, args, captured_inputs, cancellation_manager)\u001B[0m\n\u001B[0;32m   1959\u001B[0m possible_gradient_type \u001B[38;5;241m=\u001B[39m gradients_util\u001B[38;5;241m.\u001B[39mPossibleTapeGradientTypes(args)\n\u001B[0;32m   1960\u001B[0m \u001B[38;5;28;01mif\u001B[39;00m (possible_gradient_type \u001B[38;5;241m==\u001B[39m gradients_util\u001B[38;5;241m.\u001B[39mPOSSIBLE_GRADIENT_TYPES_NONE\n\u001B[0;32m   1961\u001B[0m     \u001B[38;5;129;01mand\u001B[39;00m executing_eagerly):\n\u001B[0;32m   1962\u001B[0m   \u001B[38;5;66;03m# No tape is watching; skip to running the function.\u001B[39;00m\n\u001B[1;32m-> 1963\u001B[0m   \u001B[38;5;28;01mreturn\u001B[39;00m \u001B[38;5;28mself\u001B[39m\u001B[38;5;241m.\u001B[39m_build_call_outputs(\u001B[38;5;28;43mself\u001B[39;49m\u001B[38;5;241;43m.\u001B[39;49m\u001B[43m_inference_function\u001B[49m\u001B[38;5;241;43m.\u001B[39;49m\u001B[43mcall\u001B[49m\u001B[43m(\u001B[49m\n\u001B[0;32m   1964\u001B[0m \u001B[43m      \u001B[49m\u001B[43mctx\u001B[49m\u001B[43m,\u001B[49m\u001B[43m \u001B[49m\u001B[43margs\u001B[49m\u001B[43m,\u001B[49m\u001B[43m \u001B[49m\u001B[43mcancellation_manager\u001B[49m\u001B[38;5;241;43m=\u001B[39;49m\u001B[43mcancellation_manager\u001B[49m\u001B[43m)\u001B[49m)\n\u001B[0;32m   1965\u001B[0m forward_backward \u001B[38;5;241m=\u001B[39m \u001B[38;5;28mself\u001B[39m\u001B[38;5;241m.\u001B[39m_select_forward_and_backward_functions(\n\u001B[0;32m   1966\u001B[0m     args,\n\u001B[0;32m   1967\u001B[0m     possible_gradient_type,\n\u001B[0;32m   1968\u001B[0m     executing_eagerly)\n\u001B[0;32m   1969\u001B[0m forward_function, args_with_tangents \u001B[38;5;241m=\u001B[39m forward_backward\u001B[38;5;241m.\u001B[39mforward()\n",
      "File \u001B[1;32m~\\.conda\\envs\\AcusticEventsDetection\\lib\\site-packages\\tensorflow\\python\\eager\\function.py:591\u001B[0m, in \u001B[0;36m_EagerDefinedFunction.call\u001B[1;34m(self, ctx, args, cancellation_manager)\u001B[0m\n\u001B[0;32m    589\u001B[0m \u001B[38;5;28;01mwith\u001B[39;00m _InterpolateFunctionError(\u001B[38;5;28mself\u001B[39m):\n\u001B[0;32m    590\u001B[0m   \u001B[38;5;28;01mif\u001B[39;00m cancellation_manager \u001B[38;5;129;01mis\u001B[39;00m \u001B[38;5;28;01mNone\u001B[39;00m:\n\u001B[1;32m--> 591\u001B[0m     outputs \u001B[38;5;241m=\u001B[39m \u001B[43mexecute\u001B[49m\u001B[38;5;241;43m.\u001B[39;49m\u001B[43mexecute\u001B[49m\u001B[43m(\u001B[49m\n\u001B[0;32m    592\u001B[0m \u001B[43m        \u001B[49m\u001B[38;5;28;43mstr\u001B[39;49m\u001B[43m(\u001B[49m\u001B[38;5;28;43mself\u001B[39;49m\u001B[38;5;241;43m.\u001B[39;49m\u001B[43msignature\u001B[49m\u001B[38;5;241;43m.\u001B[39;49m\u001B[43mname\u001B[49m\u001B[43m)\u001B[49m\u001B[43m,\u001B[49m\n\u001B[0;32m    593\u001B[0m \u001B[43m        \u001B[49m\u001B[43mnum_outputs\u001B[49m\u001B[38;5;241;43m=\u001B[39;49m\u001B[38;5;28;43mself\u001B[39;49m\u001B[38;5;241;43m.\u001B[39;49m\u001B[43m_num_outputs\u001B[49m\u001B[43m,\u001B[49m\n\u001B[0;32m    594\u001B[0m \u001B[43m        \u001B[49m\u001B[43minputs\u001B[49m\u001B[38;5;241;43m=\u001B[39;49m\u001B[43margs\u001B[49m\u001B[43m,\u001B[49m\n\u001B[0;32m    595\u001B[0m \u001B[43m        \u001B[49m\u001B[43mattrs\u001B[49m\u001B[38;5;241;43m=\u001B[39;49m\u001B[43mattrs\u001B[49m\u001B[43m,\u001B[49m\n\u001B[0;32m    596\u001B[0m \u001B[43m        \u001B[49m\u001B[43mctx\u001B[49m\u001B[38;5;241;43m=\u001B[39;49m\u001B[43mctx\u001B[49m\u001B[43m)\u001B[49m\n\u001B[0;32m    597\u001B[0m   \u001B[38;5;28;01melse\u001B[39;00m:\n\u001B[0;32m    598\u001B[0m     outputs \u001B[38;5;241m=\u001B[39m execute\u001B[38;5;241m.\u001B[39mexecute_with_cancellation(\n\u001B[0;32m    599\u001B[0m         \u001B[38;5;28mstr\u001B[39m(\u001B[38;5;28mself\u001B[39m\u001B[38;5;241m.\u001B[39msignature\u001B[38;5;241m.\u001B[39mname),\n\u001B[0;32m    600\u001B[0m         num_outputs\u001B[38;5;241m=\u001B[39m\u001B[38;5;28mself\u001B[39m\u001B[38;5;241m.\u001B[39m_num_outputs,\n\u001B[1;32m   (...)\u001B[0m\n\u001B[0;32m    603\u001B[0m         ctx\u001B[38;5;241m=\u001B[39mctx,\n\u001B[0;32m    604\u001B[0m         cancellation_manager\u001B[38;5;241m=\u001B[39mcancellation_manager)\n",
      "File \u001B[1;32m~\\.conda\\envs\\AcusticEventsDetection\\lib\\site-packages\\tensorflow\\python\\eager\\execute.py:59\u001B[0m, in \u001B[0;36mquick_execute\u001B[1;34m(op_name, num_outputs, inputs, attrs, ctx, name)\u001B[0m\n\u001B[0;32m     57\u001B[0m \u001B[38;5;28;01mtry\u001B[39;00m:\n\u001B[0;32m     58\u001B[0m   ctx\u001B[38;5;241m.\u001B[39mensure_initialized()\n\u001B[1;32m---> 59\u001B[0m   tensors \u001B[38;5;241m=\u001B[39m \u001B[43mpywrap_tfe\u001B[49m\u001B[38;5;241;43m.\u001B[39;49m\u001B[43mTFE_Py_Execute\u001B[49m\u001B[43m(\u001B[49m\u001B[43mctx\u001B[49m\u001B[38;5;241;43m.\u001B[39;49m\u001B[43m_handle\u001B[49m\u001B[43m,\u001B[49m\u001B[43m \u001B[49m\u001B[43mdevice_name\u001B[49m\u001B[43m,\u001B[49m\u001B[43m \u001B[49m\u001B[43mop_name\u001B[49m\u001B[43m,\u001B[49m\n\u001B[0;32m     60\u001B[0m \u001B[43m                                      \u001B[49m\u001B[43minputs\u001B[49m\u001B[43m,\u001B[49m\u001B[43m \u001B[49m\u001B[43mattrs\u001B[49m\u001B[43m,\u001B[49m\u001B[43m \u001B[49m\u001B[43mnum_outputs\u001B[49m\u001B[43m)\u001B[49m\n\u001B[0;32m     61\u001B[0m \u001B[38;5;28;01mexcept\u001B[39;00m core\u001B[38;5;241m.\u001B[39m_NotOkStatusException \u001B[38;5;28;01mas\u001B[39;00m e:\n\u001B[0;32m     62\u001B[0m   \u001B[38;5;28;01mif\u001B[39;00m name \u001B[38;5;129;01mis\u001B[39;00m \u001B[38;5;129;01mnot\u001B[39;00m \u001B[38;5;28;01mNone\u001B[39;00m:\n",
      "\u001B[1;31mKeyboardInterrupt\u001B[0m: "
     ]
    }
   ],
   "source": [
    "history = model.fit(train_gen, validation_data=valid_gen, epochs=5)"
   ],
   "metadata": {
    "collapsed": false,
    "pycharm": {
     "name": "#%%\n"
    }
   }
  },
  {
   "cell_type": "code",
   "execution_count": null,
   "outputs": [],
   "source": [],
   "metadata": {
    "collapsed": false,
    "pycharm": {
     "name": "#%%\n"
    }
   }
  }
 ],
 "metadata": {
  "kernelspec": {
   "display_name": "Python 3",
   "language": "python",
   "name": "python3"
  },
  "language_info": {
   "codemirror_mode": {
    "name": "ipython",
    "version": 2
   },
   "file_extension": ".py",
   "mimetype": "text/x-python",
   "name": "python",
   "nbconvert_exporter": "python",
   "pygments_lexer": "ipython2",
   "version": "2.7.6"
  }
 },
 "nbformat": 4,
 "nbformat_minor": 0
}